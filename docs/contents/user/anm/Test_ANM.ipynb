{
 "cells": [
  {
   "cell_type": "markdown",
   "id": "c23af330-9d57-4d84-ad80-4155b2cc24bd",
   "metadata": {},
   "source": [
    "# Test"
   ]
  },
  {
   "cell_type": "code",
   "execution_count": null,
   "id": "94a29a6e-a103-4520-93cd-7631ef431831",
   "metadata": {},
   "outputs": [],
   "source": [
    "import openenm as oenm"
   ]
  },
  {
   "cell_type": "code",
   "execution_count": null,
   "id": "20d16a9a-9396-4163-89f2-57090cf47a46",
   "metadata": {},
   "outputs": [],
   "source": [
    "anm = oenm.AnisotropicNetworkModel('1TCD', selection='atom_name==\"CA\"', cutoff='10 angstroms')"
   ]
  },
  {
   "cell_type": "code",
   "execution_count": null,
   "id": "0de52d97-aed3-4427-9915-518a0077dbd8",
   "metadata": {},
   "outputs": [],
   "source": [
    "anm.view_mode(mode=0)"
   ]
  },
  {
   "cell_type": "code",
   "execution_count": null,
   "id": "e932ddf9-c558-42ed-9643-ecf1184b3db4",
   "metadata": {},
   "outputs": [],
   "source": [
    "import molsysmt as msm"
   ]
  },
  {
   "cell_type": "code",
   "execution_count": null,
   "id": "ad2036da-71e8-4c76-ba6a-7eb28c2d650d",
   "metadata": {},
   "outputs": [],
   "source": [
    "molecular_system = msm.convert('1HIV', selection='molecule_type==\"protein\"')"
   ]
  },
  {
   "cell_type": "code",
   "execution_count": null,
   "id": "16f688bc-087f-41bc-bb41-e218be978221",
   "metadata": {},
   "outputs": [],
   "source": [
    "anm = oenm.AnisotropicNetworkModel(molecular_system, selection='atom_name==\"CA\"', cutoff='10 angstroms')"
   ]
  },
  {
   "cell_type": "code",
   "execution_count": null,
   "id": "e3eeab66-1908-4646-bb0d-7143cdee401c",
   "metadata": {},
   "outputs": [],
   "source": [
    "anm.view_mode(mode=0)"
   ]
  },
  {
   "cell_type": "code",
   "execution_count": null,
   "id": "14c96829-efbc-48b2-b1bd-6ecd8e76855c",
   "metadata": {},
   "outputs": [],
   "source": []
  }
 ],
 "metadata": {
  "kernelspec": {
   "display_name": "Python 3 (ipykernel)",
   "language": "python",
   "name": "python3"
  },
  "language_info": {
   "codemirror_mode": {
    "name": "ipython",
    "version": 3
   },
   "file_extension": ".py",
   "mimetype": "text/x-python",
   "name": "python",
   "nbconvert_exporter": "python",
   "pygments_lexer": "ipython3",
   "version": "3.9.13"
  }
 },
 "nbformat": 4,
 "nbformat_minor": 5
}
