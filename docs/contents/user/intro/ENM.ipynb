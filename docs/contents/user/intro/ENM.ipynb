{
 "cells": [
  {
   "cell_type": "markdown",
   "id": "eb1ec845-aa8d-43e6-8e68-37a47cb674b7",
   "metadata": {},
   "source": [
    "# Elastic Network Models"
   ]
  },
  {
   "cell_type": "code",
   "execution_count": null,
   "id": "184d6947-ca46-4ad1-850f-2769763e59d0",
   "metadata": {},
   "outputs": [],
   "source": []
  }
 ],
 "metadata": {
  "kernelspec": {
   "display_name": "Python 3 (ipykernel)",
   "language": "python",
   "name": "python3"
  },
  "language_info": {
   "codemirror_mode": {
    "name": "ipython",
    "version": 3
   },
   "file_extension": ".py",
   "mimetype": "text/x-python",
   "name": "python",
   "nbconvert_exporter": "python",
   "pygments_lexer": "ipython3",
   "version": "3.9.13"
  }
 },
 "nbformat": 4,
 "nbformat_minor": 5
}
