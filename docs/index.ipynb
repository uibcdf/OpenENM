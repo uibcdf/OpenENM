{
 "cells": [
  {
   "cell_type": "markdown",
   "id": "55a9d6a7-f5a0-41d0-8753-5a205315f98f",
   "metadata": {},
   "source": [
    "# OpenENM\n",
    "\n",
    "```{image} https://anaconda.org/uibcdf/openenm/badges/license.svg\n",
    ":target: https://github.com/uibcdf/OpenENM/blob/master/License\n",
    "```\n",
    "\n",
    "OpenENM makes the work with elastic network models easy.\n",
    "\n",
    "## Install it\n",
    "\n",
    "```bash\n",
    "conda install -c uibcdf openenm\n",
    "```"
   ]
  },
  {
   "cell_type": "markdown",
   "id": "4ee03877-fe86-4b89-8bf5-5d62f7fcf1e2",
   "metadata": {},
   "source": [
    "## Use it"
   ]
  },
  {
   "cell_type": "code",
   "execution_count": null,
   "id": "915d760f-1643-49c8-af7a-7d1307fb5d63",
   "metadata": {
    "tags": [
     "remove-output"
    ]
   },
   "outputs": [],
   "source": [
    "import openenm as oenm\n",
    "\n",
    "anm = oenm.AnisotropicNetworkModel('1TCD', selection='atom_name==\"CA\"', cutoff='10.0 angstroms')\n",
    "\n",
    "anm.view_mode(mode=1)"
   ]
  },
  {
   "cell_type": "code",
   "execution_count": null,
   "id": "4b2dd307-7e77-45de-9e04-a753891cb029",
   "metadata": {
    "tags": [
     "remove-input"
    ]
   },
   "outputs": [],
   "source": [
    "from IPython.display import IFrame\n",
    "IFrame(src='_static/nglview/1tcd_mode_1.html', width='100%', height='320vh')"
   ]
  },
  {
   "cell_type": "code",
   "execution_count": null,
   "id": "c73c4bfc-b7c9-4be9-8641-6b0e7fa01240",
   "metadata": {},
   "outputs": [],
   "source": []
  },
  {
   "cell_type": "markdown",
   "id": "65df1b9c-818d-4ef5-8e68-8491142b8987",
   "metadata": {},
   "source": [
    "## Citation\n",
    "\n",
    "Coming soon..."
   ]
  },
  {
   "cell_type": "markdown",
   "id": "02303a7f-46c8-4205-92dd-b734b0b30302",
   "metadata": {},
   "source": [
    "```{eval-rst}\n",
    ".. toctree::\n",
    "   :name: about\n",
    "   :caption: About\n",
    "   :maxdepth: 2\n",
    "   :hidden:\n",
    "\n",
    "   contents/about/what.md\n",
    "   contents/about/installation.md\n",
    "   contents/about/showcase/index.md\n",
    "   contents/about/citation.md\n",
    "\n",
    ".. toctree::\n",
    "   :name: user_guide\n",
    "   :caption: User Guide\n",
    "   :maxdepth: 2\n",
    "   :hidden:\n",
    "   \n",
    "   contents/user/intro/index.md\n",
    "   contents/user/gnm/index.md\n",
    "   contents/user/anm/index.md\n",
    "\n",
    ".. toctree::\n",
    "   :name: cookbook\n",
    "   :caption: Cookbook\n",
    "   :maxdepth: 2\n",
    "   :hidden:\n",
    "\n",
    "   contents/cookbook/Test1.ipynb\n",
    "\n",
    ".. toctree::\n",
    "   :name: developer_guide\n",
    "   :caption: Developer Guide\n",
    "   :maxdepth: 2\n",
    "   :hidden:\n",
    "\n",
    "   contents/developer/intro/index.md\n",
    "   contents/developer/documentation/index.md\n",
    "   \n",
    ".. toctree::\n",
    "   :name: api_doc\n",
    "   :caption: API Documentation\n",
    "   :maxdepth: 2\n",
    "   :hidden:\n",
    "\n",
    "   api/users/api_users.rst\n",
    "   api/developers/api_developers.rst\n",
    "```"
   ]
  }
 ],
 "metadata": {
  "kernelspec": {
   "display_name": "Python 3 (ipykernel)",
   "language": "python",
   "name": "python3"
  },
  "language_info": {
   "codemirror_mode": {
    "name": "ipython",
    "version": 3
   },
   "file_extension": ".py",
   "mimetype": "text/x-python",
   "name": "python",
   "nbconvert_exporter": "python",
   "pygments_lexer": "ipython3",
   "version": "3.9.13"
  }
 },
 "nbformat": 4,
 "nbformat_minor": 5
}
